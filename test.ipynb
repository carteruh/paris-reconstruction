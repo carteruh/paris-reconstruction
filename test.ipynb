{
 "cells": [
  {
   "cell_type": "code",
   "execution_count": null,
   "metadata": {},
   "outputs": [],
   "source": [
    "python launch.py --test --config pretrain/storage/config/parsed.yaml --resume pretrain/storage/ckpt/last.ckpt\n",
    "python launch.py --predict --config pretrain/storage/config/parsed.yaml --resume pretrain/storage/ckpt/last.ckpt dataset.n_interp=3  \n",
    "python launch.py --train --config configs/prismatic.yaml source=sapien/storage/45135 \n",
    "python launch.py --train --config configs/revolute.yaml source=sapien/trashcan/11951 \n",
    "python launch.py --train --config configs/revolute.yaml source=sapien/phone/103941 --resume exp/sapien/phone/103941/prismatic/01@20241201-010900/ckpt/epoch=0-step=60000.ckpt --resume_weights_only\n",
    "\n",
    "python launch.py --train --config configs/revolute.yaml source=sapien_example/Knife/101217 --resume exp/sapien_example/Knife/101217/revolute/01@20240827-010248/ckpt/epoch=0-step=60000.ckpt --resume_weights_only\n",
    "python launch.py --predict --config exp/sapien/trashcan/11951/revolute/01@20241206-012643/config/parsed.yaml --resume exp/sapien/trashcan/11951/revolute/01@20241206-012643/ckpt/last.ckpt dataset.pred_scale=0.1 dataset.view_idx=1 dataset.pred_mode='anim'\n"
   ]
  },
  {
   "cell_type": "markdown",
   "metadata": {},
   "source": [
    "# Analyze Depth Images\n"
   ]
  },
  {
   "cell_type": "code",
   "execution_count": 9,
   "metadata": {},
   "outputs": [
    {
     "name": "stdout",
     "output_type": "stream",
     "text": [
      "(800, 800)\n",
      "0 4984\n",
      "3718\n"
     ]
    }
   ],
   "source": [
    "import cv2\n",
    "\n",
    "# Load the depth image\n",
    "depth_image = cv2.imread('./00000_002.png', cv2.IMREAD_UNCHANGED)\n",
    "\n",
    "# Check the shape of the depth image\n",
    "print(depth_image.shape)  # This should return (height, width) for single-channel\n",
    "print(depth_image.min(), depth_image.max())\n",
    "print(depth_image[400][400])\n",
    "\n"
   ]
  },
  {
   "cell_type": "code",
   "execution_count": null,
   "metadata": {},
   "outputs": [],
   "source": [
    "import numpy as np\n",
    "import matplotlib.pyplot as plt\n",
    "import cv2\n",
    "\n",
    "def plot_depth_histogram(image_path):\n",
    "    # Load the depth image using OpenCV in grayscale\n",
    "    depth_image = cv2.imread(image_path, cv2.IMREAD_UNCHANGED)\n",
    "    \n",
    "    # Check if the image was loaded correctly\n",
    "    if depth_image is None:\n",
    "        print(\"Error loading image.\")\n",
    "        return\n",
    "\n",
    "    # Find min and max depth values in the image\n",
    "    min_depth = np.min(depth_image)\n",
    "    max_depth = np.max(depth_image)\n",
    "    print(f\"Depth range: {min_depth} to {max_depth}\")\n",
    "\n",
    "    # Plot histogram of depth values\n",
    "    plt.figure(figsize=(10, 6))\n",
    "    plt.hist(depth_image.flatten(), bins=np.linspace(min_depth, max_depth, 50), color='blue', edgecolor='black', alpha=0.7)\n",
    "\n",
    "    # Customizing the plot\n",
    "    plt.title('Depth Value Frequency Distribution')\n",
    "    plt.xlabel('Depth Value')\n",
    "    plt.ylabel('Frequency')\n",
    "    plt.grid(axis='y', alpha=0.75)\n",
    "    \n",
    "    # Show plot\n",
    "    plt.show()\n",
    "\n",
    "# Example usage\n",
    "depth_image_path = './00000_002.png'  # Replace with the actual file path\n",
    "plot_depth_histogram(depth_image_path)\n"
   ]
  }
 ],
 "metadata": {
  "kernelspec": {
   "display_name": "Python 3",
   "language": "python",
   "name": "python3"
  },
  "language_info": {
   "codemirror_mode": {
    "name": "ipython",
    "version": 3
   },
   "file_extension": ".py",
   "mimetype": "text/x-python",
   "name": "python",
   "nbconvert_exporter": "python",
   "pygments_lexer": "ipython3",
   "version": "3.8.19"
  }
 },
 "nbformat": 4,
 "nbformat_minor": 2
}
